{
 "cells": [
  {
   "cell_type": "markdown",
   "id": "0cdd13d1",
   "metadata": {},
   "source": [
    "# Wykrywanie Anomalii z Rozkładem Normalnym (Gaussa)\n",
    "## Wstęp teoretyczny\n",
    "Wykrywanie anomalii to proces identyfikacji danych, które różnią się od większości obserwacji.\n",
    "W tym ćwiczeniu wykorzystujemy **rozkład normalny (Gaussa)**, aby zmodelować nasze dane i ocenić, które obserwacje mogą być nietypowe.\n",
    "\n",
    "**Dlaczego rozkład normalny?**\n",
    "- Dane często mają rozkład zbliżony do normalnego (np. średnie zużycie, opóźnienie itp.).\n",
    "- Łatwo można oszacować parametry: średnia (`μ`) i odchylenie standardowe (`σ`).\n",
    "- Można szybko wyznaczyć prawdopodobieństwo dla każdej obserwacji i porównać je z progiem (`epsilon`).\n",
    "\n",
    "Obserwacje o **bardzo niskim prawdopodobieństwie** względem modelu uważamy za **anomalię**."
   ]
  },
  {
   "cell_type": "code",
   "execution_count": null,
   "id": "a7a59e2d",
   "metadata": {},
   "outputs": [],
   "source": [
    "import numpy as np\n",
    "import pandas as pd\n",
    "import matplotlib.pyplot as plt\n",
    "from scipy.io import loadmat\n",
    "from scipy.stats import norm\n",
    "from sklearn.metrics import f1_score"
   ]
  },
  {
   "cell_type": "markdown",
   "id": "aa6f18e5",
   "metadata": {},
   "source": [
    "## Wczytanie danych"
   ]
  },
  {
   "cell_type": "code",
   "execution_count": null,
   "id": "d369fa75",
   "metadata": {},
   "outputs": [],
   "source": [
    "data = loadmat('ex8data1.mat')\n",
    "X = data['X']\n",
    "print(X.shape)"
   ]
  },
  {
   "cell_type": "markdown",
   "id": "d80fc87d",
   "metadata": {},
   "source": [
    "Import bibliotek do analizy danych, rysowania wykresów i obliczeń statystycznych.\n",
    "\n",
    "loadmat() wczytuje dane z pliku MATLAB .mat.\n",
    "\n",
    "X to macierz cech (dwa wymiary: przepustowość i opóźnienie).\n",
    "\n",
    "X.shape pokazuje liczbę przykładów i wymiarów.\n",
    "\n"
   ]
  },
  {
   "cell_type": "markdown",
   "id": "6b693b91",
   "metadata": {},
   "source": [
    "## Wizualizacja danych wejściowych"
   ]
  },
  {
   "cell_type": "code",
   "execution_count": null,
   "id": "9ffa0654",
   "metadata": {},
   "outputs": [],
   "source": [
    "x1 = X[:, 0]\n",
    "x2 = X[:, 1]\n",
    "plt.scatter(x1, x2, marker='o', s=10, c='blue', alpha=0.5)\n",
    "plt.xlabel('throughput (mb/s)')\n",
    "plt.ylabel('latency (ms)')\n",
    "plt.show()"
   ]
  },
  {
   "cell_type": "markdown",
   "id": "ad6541f5",
   "metadata": {},
   "source": [
    "Opis:\n",
    "\n",
    "x1, x2 to odpowiednio przepustowość i opóźnienie.\n",
    "\n",
    "Rysuje wykres punktowy z danymi.\n",
    "\n"
   ]
  },
  {
   "cell_type": "markdown",
   "id": "71d11e4a",
   "metadata": {},
   "source": [
    "## Histogramy cech"
   ]
  },
  {
   "cell_type": "code",
   "execution_count": null,
   "id": "8e1dac94",
   "metadata": {},
   "outputs": [],
   "source": [
    "plt.hist(x1, alpha=0.5, color='blue')\n",
    "plt.xlabel('throughput (mb/s)')\n",
    "plt.ylabel('latency (ms)')\n",
    "plt.show()"
   ]
  },
  {
   "cell_type": "code",
   "execution_count": null,
   "id": "c89542d0",
   "metadata": {},
   "outputs": [],
   "source": [
    "plt.hist(x2, alpha=0.5, color='blue')\n",
    "plt.xlabel('throughput (mb/s)')\n",
    "plt.ylabel('latency (ms)')\n",
    "plt.show()"
   ]
  },
  {
   "cell_type": "markdown",
   "id": "816263bc",
   "metadata": {},
   "source": [
    "Histogramy pokazują rozkład cech x1 i x2."
   ]
  },
  {
   "cell_type": "markdown",
   "id": "9ff6ab02",
   "metadata": {},
   "source": [
    "## Estymacja rozkładu normalnego"
   ]
  },
  {
   "cell_type": "code",
   "execution_count": null,
   "id": "bdc41407",
   "metadata": {},
   "outputs": [],
   "source": [
    "def estimate_gaussian(X):\n",
    "    mu = np.mean(X, axis=0)\n",
    "    sigma = np.std(X, axis=0)\n",
    "    return mu, sigma\n",
    "\n",
    "mu, sigma = estimate_gaussian(X)\n",
    "print('mu:', mu)\n",
    "print('sigma:', sigma)"
   ]
  },
  {
   "cell_type": "markdown",
   "id": "86d2bced",
   "metadata": {},
   "source": [
    "Funkcja oblicza średnie (mu) i odchylenia standardowe (sigma) dla każdej cechy.\n",
    "\n",
    "Zakłada rozkład normalny danych."
   ]
  },
  {
   "cell_type": "markdown",
   "id": "5403c997",
   "metadata": {},
   "source": [
    "## Dane walidacyjne (do testowania progów wykrywania anomalii)"
   ]
  },
  {
   "cell_type": "code",
   "execution_count": null,
   "id": "74de401b",
   "metadata": {},
   "outputs": [],
   "source": [
    "Xval = data['Xval']\n",
    "yval = data['yval']\n",
    "print(\"Xval shape:\", Xval.shape)\n",
    "print(\"Liczba anomalii:\", np.sum(yval == 1.0))"
   ]
  },
  {
   "cell_type": "markdown",
   "id": "df90047a",
   "metadata": {},
   "source": [
    "Xval – dane walidacyjne, yval – etykiety (1 = anomalia, 0 = normalne).\n",
    "\n",
    "Wyświetla kształt i liczbę anomalii.\n",
    "\n"
   ]
  },
  {
   "cell_type": "markdown",
   "id": "35694346",
   "metadata": {},
   "source": [
    "## Krzywa rozkładu normalnego dla cechy x1"
   ]
  },
  {
   "cell_type": "code",
   "execution_count": null,
   "id": "32f8d149",
   "metadata": {},
   "outputs": [],
   "source": [
    "mu1 = mu[0]\n",
    "sigma1 = sigma[0]\n",
    "mu2 = mu[1]\n",
    "sigma2 = sigma[1]\n",
    "\n",
    "x1_range = np.linspace(x1.min(), x1.max(), 100)\n",
    "pdf_x1 = norm.pdf(x1_range, loc=mu1, scale=sigma1)\n",
    "\n",
    "plt.figure(figsize=(8, 6))\n",
    "plt.plot(x1_range, pdf_x1, color='orange', label='gaussian dist')\n",
    "plt.scatter(np.sort(x1), norm.pdf(np.sort(x1), loc=mu1, scale=sigma1), label='data points')\n",
    "plt.xlabel('throughput (mb/s)')\n",
    "plt.ylabel('Probability')\n",
    "plt.grid()\n",
    "plt.legend()\n",
    "plt.show()"
   ]
  },
  {
   "cell_type": "markdown",
   "id": "0c88ca4e",
   "metadata": {},
   "source": [
    "Tworzy wykres funkcji gęstości prawdopodobieństwa (PDF) dla x1.\n",
    "\n",
    "Porównuje dane do rozkładu Gaussa."
   ]
  },
  {
   "cell_type": "markdown",
   "id": "57bafb1e",
   "metadata": {},
   "source": [
    "## Obliczenie prawdopodobieństw dla danych walidacyjnych"
   ]
  },
  {
   "cell_type": "code",
   "execution_count": null,
   "id": "aad806a2",
   "metadata": {},
   "outputs": [],
   "source": [
    "pval = norm.pdf(Xval, loc=mu, scale=sigma)\n",
    "print(\"Pval shape:\", pval.shape)\n",
    "print(\"Pval\", pval)"
   ]
  },
  {
   "cell_type": "markdown",
   "id": "c7a1275b",
   "metadata": {},
   "source": [
    "Oblicza prawdopodobieństwa dla Xval na podstawie rozkładów Gaussa."
   ]
  },
  {
   "cell_type": "markdown",
   "id": "1bb7ae3f",
   "metadata": {},
   "source": [
    "## Funkcja do wyboru najlepszego progu epsilon"
   ]
  },
  {
   "cell_type": "code",
   "execution_count": null,
   "id": "c571b3a0",
   "metadata": {},
   "outputs": [],
   "source": [
    "def select_threshold(pval, yval):\n",
    "    best_epsilon = 0\n",
    "    best_f1 = 0\n",
    "    epsilons = np.linspace(pval.min(), pval.max(), 1000)\n",
    "    for epsilon in epsilons:\n",
    "        y_pred = (pval < epsilon).astype(int)\n",
    "        current_f1 = f1_score(yval, y_pred)\n",
    "        if current_f1 > best_f1:\n",
    "            best_f1 = current_f1\n",
    "            best_epsilon = epsilon\n",
    "    return best_epsilon, best_f1"
   ]
  },
  {
   "cell_type": "markdown",
   "id": "d97068aa",
   "metadata": {},
   "source": [
    "Szuka najlepszego progu epsilon, który rozdziela dane normalne od anomalii.\n",
    "\n",
    "Używa metryki F1 do oceny skuteczności.\n",
    "\n"
   ]
  },
  {
   "cell_type": "markdown",
   "id": "6a332866",
   "metadata": {},
   "source": [
    "## Szukanie najlepszego progu i wykrywanie anomalii"
   ]
  },
  {
   "cell_type": "code",
   "execution_count": null,
   "id": "bf94b3e0",
   "metadata": {},
   "outputs": [],
   "source": [
    "pval1 = norm.pdf(Xval[:, 0], loc=mu1, scale=sigma1)\n",
    "pval2 = norm.pdf(Xval[:, 1], loc=mu2, scale=sigma2)\n",
    "\n",
    "best_epsilon_1, best_f1_1 = select_threshold(pval1, yval.flatten())\n",
    "best_epsilon_2, best_f1_2 = select_threshold(pval2, yval.flatten())\n",
    "\n",
    "y_pred1 = (pval1 < best_epsilon_1).astype(int)\n",
    "y_pred2 = (pval2 < best_epsilon_2).astype(int)\n",
    "\n",
    "print(\"Najlepszy próg (1. cecha):\", best_epsilon_1)\n",
    "print(\"Najlepszy F1-score (1. cecha):\", best_f1_1)\n",
    "print(\"Najlepszy próg (2. cecha):\", best_epsilon_2)\n",
    "print(\"Najlepszy F1-score (2. cecha):\", best_f1_2)"
   ]
  },
  {
   "cell_type": "markdown",
   "id": "1e5e54f8",
   "metadata": {},
   "source": [
    "Osobno analizuje każdą cechę (x1, x2) i wybiera optymalne epsilon.\n",
    "\n",
    "Generuje predykcje i ocenia jakość klasyfikacji."
   ]
  },
  {
   "cell_type": "markdown",
   "id": "f10d62aa",
   "metadata": {},
   "source": [
    "## Wizualizacja wykrytych anomalii (cecha x1)"
   ]
  },
  {
   "cell_type": "code",
   "execution_count": null,
   "id": "4c104957",
   "metadata": {},
   "outputs": [],
   "source": [
    "plt.figure(figsize=(6, 5))\n",
    "plt.scatter(Xval[y_pred1 == 0, 0], Xval[y_pred1 == 0, 1], color='dodgerblue', s=20, label=\"data points\")\n",
    "plt.scatter(Xval[y_pred1 == 1, 0], Xval[y_pred1 == 1, 1], color='red', s=40, label=\"anomalies\")\n",
    "plt.xlabel(\"throughput (mb/s)\")\n",
    "plt.ylabel(\"latency (ms)\")\n",
    "plt.title(\"Anomalie wykryte na podstawie cechy x1\")\n",
    "plt.legend()\n",
    "plt.grid(True)\n",
    "plt.tight_layout()\n",
    "plt.show()"
   ]
  }
 ],
 "metadata": {
  "language_info": {
   "name": "python"
  }
 },
 "nbformat": 4,
 "nbformat_minor": 5
}
